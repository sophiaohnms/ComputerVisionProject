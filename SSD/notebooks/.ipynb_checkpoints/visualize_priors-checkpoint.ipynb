{
 "cells": [
  {
   "cell_type": "code",
   "execution_count": 1,
   "metadata": {},
   "outputs": [],
   "source": [
    "import matplotlib.pyplot as plt\n",
    "import sys\n",
    "import torch\n",
    "import numpy as np\n",
    "import pathlib\n",
    "path = pathlib.Path()\n",
    "# Insert all modules a folder above\n",
    "sys.path.insert(0, str(path.absolute().parent))\n",
    "from ssd.config.defaults import cfg\n",
    "from ssd.modeling.box_head.prior_box import PriorBox\n",
    "from ssd.utils.box_utils import convert_locations_to_boxes"
   ]
  },
  {
   "cell_type": "code",
   "execution_count": 2,
   "metadata": {},
   "outputs": [],
   "source": [
    "#config_path = \"../configs/train_tdt4265.yaml\"\n",
    "config_path = \"../configs/train_waymo.yaml\"\n",
    "cfg.merge_from_file(config_path)"
   ]
  },
  {
   "cell_type": "code",
   "execution_count": 3,
   "metadata": {},
   "outputs": [],
   "source": [
    "prior_box = PriorBox(cfg)"
   ]
  },
  {
   "cell_type": "code",
   "execution_count": 4,
   "metadata": {},
   "outputs": [
    {
     "name": "stdout",
     "output_type": "stream",
     "text": [
      " F:  [40, 30]\n",
      " F:  [20, 15]\n",
      " F:  [10, 8]\n",
      " F:  [5, 4]\n",
      " F:  [2, 2]\n",
      " F:  [1, 1]\n",
      "Prior box shape: torch.Size([7228, 4])\n",
      "First prior example: tensor([0.0375, 0.0167, 0.1021, 0.0765])\n"
     ]
    }
   ],
   "source": [
    "priors = prior_box()\n",
    "print(\"Prior box shape:\", priors.shape)\n",
    "print(\"First prior example:\", priors[5])\n",
    "locations = torch.zeros_like(priors)[None]\n",
    "priors_as_location = convert_locations_to_boxes(locations, priors,cfg.MODEL.CENTER_VARIANCE, cfg.MODEL.SIZE_VARIANCE)[0]"
   ]
  },
  {
   "cell_type": "code",
   "execution_count": 5,
   "metadata": {},
   "outputs": [],
   "source": [
    "def plot_bbox(box):\n",
    "    cx, cy, w, h = box\n",
    "    x1, y1 = cx + w/2, cy + h/2\n",
    "    x0, y0 = cx - w/2, cy - h/2\n",
    "    plt.plot(\n",
    "        [x0, x0, x1, x1, x0],\n",
    "        [y0, y1, y1, y0, y0]\n",
    "    )"
   ]
  },
  {
   "cell_type": "code",
   "execution_count": 6,
   "metadata": {},
   "outputs": [
    {
     "data": {
      "image/png": "[encoded data removed]",
      "text/plain": [
       "<Figure size 432x288 with 1 Axes>"
      ]
     },
     "metadata": {
      "needs_background": "light"
     },
     "output_type": "display_data"
    }
   ],
   "source": [
    "prior_idx = 1\n",
    "#plt.clf()\n",
    "plt.ylim([0, 1])\n",
    "plt.xlim([0, 1])\n",
    "# Visualizing all would take too much\n",
    "priors_as_location = [x for x in priors_as_location]\n",
    "#np.random.shuffle(priors_as_location)\n",
    "for prior in priors_as_location[prior_idx-1:prior_idx]:\n",
    "    plot_bbox(prior)"
   ]
  },
  {
   "cell_type": "code",
   "execution_count": 7,
   "metadata": {},
   "outputs": [
    {
     "name": "stdout",
     "output_type": "stream",
     "text": [
      "tensor([0.0125, 0.0167, 0.0833, 0.0625])\n"
     ]
    }
   ],
   "source": [
    "print(prior)"
   ]
  },
  {
   "cell_type": "code",
   "execution_count": null,
   "metadata": {},
   "outputs": [],
   "source": []
  }
 ],
 "metadata": {
  "kernelspec": {
   "display_name": "Python 3",
   "language": "python",
   "name": "python3"
  },
  "language_info": {
   "codemirror_mode": {
    "name": "ipython",
    "version": 3
   },
   "file_extension": ".py",
   "mimetype": "text/x-python",
   "name": "python",
   "nbconvert_exporter": "python",
   "pygments_lexer": "ipython3",
   "version": "3.6.9"
  }
 },
 "nbformat": 4,
 "nbformat_minor": 4
}
